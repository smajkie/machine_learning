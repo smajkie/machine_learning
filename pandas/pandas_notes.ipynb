{
 "cells": [
  {
   "cell_type": "markdown",
   "metadata": {},
   "source": [
    "# Pandas notes"
   ]
  },
  {
   "cell_type": "markdown",
   "metadata": {},
   "source": [
    "## Pandas Series (and is advantages over a List)"
   ]
  },
  {
   "cell_type": "code",
   "execution_count": 1,
   "metadata": {},
   "outputs": [
    {
     "name": "stdout",
     "output_type": "stream",
     "text": [
      "1\n"
     ]
    }
   ],
   "source": [
    "# Indexing - pd.Series allows for labeled indexing, which means you can access data using labels instead of just integer positions.\n",
    "import pandas as pd\n",
    "s = pd.Series([1, 2, 3], index=['a', 'b', 'c']) # if you skip the index, it will be 0, 1, 2, ...\n",
    "print(s['a'])  # Output: 1"
   ]
  },
  {
   "cell_type": "code",
   "execution_count": 2,
   "metadata": {},
   "outputs": [
    {
     "name": "stdout",
     "output_type": "stream",
     "text": [
      "a    NaN\n",
      "b    6.0\n",
      "c    8.0\n",
      "d    NaN\n",
      "dtype: float64\n"
     ]
    }
   ],
   "source": [
    "# Data Alignement - When adding two series, the data aligns based on the index. If the index does not match, the result will be NaN.\n",
    "s1 = pd.Series([1, 2, 3], index=['a', 'b', 'c'])\n",
    "s2 = pd.Series([4, 5, 6], index=['b', 'c', 'd'])\n",
    "print(s1 + s2)"
   ]
  },
  {
   "cell_type": "code",
   "execution_count": 3,
   "metadata": {},
   "outputs": [
    {
     "name": "stdout",
     "output_type": "stream",
     "text": [
      "0    2\n",
      "1    4\n",
      "2    6\n",
      "dtype: int64\n"
     ]
    }
   ],
   "source": [
    "# Vectorized Operations: pd.Series supports vectorized operations, which means you can perform operations on the entire series without needing to loop through each element.\n",
    "s = pd.Series([1, 2, 3])\n",
    "print(s * 2)"
   ]
  },
  {
   "cell_type": "code",
   "execution_count": 4,
   "metadata": {},
   "outputs": [
    {
     "name": "stdout",
     "output_type": "stream",
     "text": [
      "0    0\n",
      "1    1\n",
      "2    2\n",
      "3    3\n",
      "4    4\n",
      "5    5\n",
      "6    6\n",
      "7    7\n",
      "8    8\n",
      "9    9\n",
      "dtype: int64\n",
      "0    False\n",
      "1    False\n",
      "2    False\n",
      "3    False\n",
      "4    False\n",
      "5    False\n",
      "6     True\n",
      "7     True\n",
      "8     True\n",
      "9     True\n",
      "dtype: bool\n",
      "6    6\n",
      "7    7\n",
      "8    8\n",
      "9    9\n",
      "dtype: int64\n"
     ]
    }
   ],
   "source": [
    "s3 = pd.Series(range(10), index=range(10))\n",
    "print(s3)\n",
    "print(s3>5)    # Output: True for values > 5, False for values <= 5\n",
    "print(s3[s3>5])    # Output: values > 5"
   ]
  },
  {
   "cell_type": "code",
   "execution_count": 5,
   "metadata": {},
   "outputs": [
    {
     "name": "stdout",
     "output_type": "stream",
     "text": [
      "a    1\n",
      "b    2\n",
      "c    3\n",
      "d    4\n",
      "dtype: int64\n"
     ]
    }
   ],
   "source": [
    "# Sample dictionary\n",
    "data = {'a': 1, 'b': 2, 'c': 3, 'd': 4}\n",
    "\n",
    "# Transform dictionary into pd.Series\n",
    "series = pd.Series(data)    # key becomes index, value becomes value\n",
    "\n",
    "# Print the resulting Series\n",
    "print(series)"
   ]
  },
  {
   "cell_type": "markdown",
   "metadata": {},
   "source": [
    "## Pandas DataFrame"
   ]
  },
  {
   "cell_type": "code",
   "execution_count": 6,
   "metadata": {},
   "outputs": [
    {
     "name": "stdout",
     "output_type": "stream",
     "text": [
      "      Name  Age         City\n",
      "0    Alice   25     New York\n",
      "1      Bob   30  Los Angeles\n",
      "2  Charlie   35      Chicago\n"
     ]
    }
   ],
   "source": [
    "data = {\n",
    "    'Name': ['Alice', 'Bob', 'Charlie'],\n",
    "    'Age': [25, 30, 35],\n",
    "    'City': ['New York', 'Los Angeles', 'Chicago']\n",
    "}\n",
    "\n",
    "# Transform dictionary into pd.DataFrame\n",
    "df = pd.DataFrame(data)\n",
    "\n",
    "# Print the resulting DataFrame\n",
    "print(df)"
   ]
  },
  {
   "cell_type": "code",
   "execution_count": 7,
   "metadata": {},
   "outputs": [
    {
     "name": "stdout",
     "output_type": "stream",
     "text": [
      "      Name  Age         City\n",
      "0    Alice   25     New York\n",
      "1      Bob   30  Los Angeles\n",
      "2  Charlie   35      Chicago\n",
      "3    David   40       Boston\n"
     ]
    }
   ],
   "source": [
    "data['Name'].append('David')\n",
    "data['Age'].append(40)\n",
    "data['City'].append('Boston')\n",
    "df = pd.DataFrame(data)\n",
    "print(df)\n"
   ]
  },
  {
   "cell_type": "code",
   "execution_count": 8,
   "metadata": {},
   "outputs": [
    {
     "name": "stdout",
     "output_type": "stream",
     "text": [
      "   Age         City\n",
      "0   25     New York\n",
      "1   30  Los Angeles\n",
      "2   35      Chicago\n",
      "3   40       Boston\n",
      "      Name  Age     City\n",
      "2  Charlie   35  Chicago\n",
      "3    David   40   Boston\n",
      "    Name  Age         City\n",
      "0  Alice   25     New York\n",
      "1    Bob   30  Los Angeles\n",
      "   Age   Name\n",
      "0   25  Alice\n",
      "1   30    Bob\n",
      "0    25\n",
      "1    30\n",
      "2    35\n",
      "3    40\n",
      "Name: Age, dtype: int64\n",
      "Name       Alice\n",
      "Age           25\n",
      "City    New York\n",
      "Name: 0, dtype: object\n"
     ]
    }
   ],
   "source": [
    "# Filtering DataFrames - 2 methods, or actually 3\n",
    "# 1. using square brackets\n",
    "filtered_df = df[['Age', 'City']]    # Output: DataFrame with only 'Age' and 'City' columns\n",
    "print(filtered_df)                   # Interesting that columns filtering needs double square brackets\n",
    "\n",
    "filtered_df = df[df['Age'] > 30]    # Output: DataFrame with only rows where 'Age' > 30\n",
    "print(filtered_df)\n",
    "\n",
    "filtered_df = df[:2]    # Output: First two rows of the DataFrame\n",
    "print(filtered_df)\n",
    "\n",
    "filtered_df = df[0:2][['Age', 'Name']]    # Fixed: Use double square brackets to select multiple columns\n",
    "print(filtered_df)                        # Intereeesting that rows filtering needs single square brackets\n",
    "\n",
    "# 2. using dot notation - this however will not work if the column name has spaces or special characters\n",
    "\n",
    "print(df.Age)\n",
    "\n",
    "# 3. using loc and iloc\n",
    "print(df.loc[0])    # Output: First row of the DataFrame"
   ]
  }
 ],
 "metadata": {
  "kernelspec": {
   "display_name": "Python 3",
   "language": "python",
   "name": "python3"
  },
  "language_info": {
   "codemirror_mode": {
    "name": "ipython",
    "version": 3
   },
   "file_extension": ".py",
   "mimetype": "text/x-python",
   "name": "python",
   "nbconvert_exporter": "python",
   "pygments_lexer": "ipython3",
   "version": "3.11.7"
  }
 },
 "nbformat": 4,
 "nbformat_minor": 2
}
