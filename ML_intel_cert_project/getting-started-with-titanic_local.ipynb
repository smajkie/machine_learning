{
 "cells": [
  {
   "cell_type": "markdown",
   "id": "a6ac51b1",
   "metadata": {
    "papermill": {
     "duration": 0.012255,
     "end_time": "2024-10-15T17:32:57.014435",
     "exception": false,
     "start_time": "2024-10-15T17:32:57.002180",
     "status": "completed"
    },
    "tags": []
   },
   "source": [
    "# Section 1 - Setting up stuff...\n",
    "\n",
    "Some templates taken as starting point (from kaggle tutorial) to build basic starting point"
   ]
  },
  {
   "cell_type": "markdown",
   "id": "0e9b4d01",
   "metadata": {
    "papermill": {
     "duration": 0.011333,
     "end_time": "2024-10-15T17:32:57.037667",
     "exception": false,
     "start_time": "2024-10-15T17:32:57.026334",
     "status": "completed"
    },
    "tags": []
   },
   "source": [
    "## Imports and data files checks"
   ]
  },
  {
   "cell_type": "code",
   "execution_count": 1,
   "id": "91e3ede3",
   "metadata": {
    "_cell_guid": "b1076dfc-b9ad-4769-8c92-a6c4dae69d19",
    "_uuid": "8f2839f25d086af736a60e9eeb907d3b93b6e0e5",
    "execution": {
     "iopub.execute_input": "2024-10-15T17:32:57.063500Z",
     "iopub.status.busy": "2024-10-15T17:32:57.063067Z",
     "iopub.status.idle": "2024-10-15T17:32:59.253168Z",
     "shell.execute_reply": "2024-10-15T17:32:59.251780Z"
    },
    "papermill": {
     "duration": 2.206973,
     "end_time": "2024-10-15T17:32:59.256365",
     "exception": false,
     "start_time": "2024-10-15T17:32:57.049392",
     "status": "completed"
    },
    "tags": []
   },
   "outputs": [],
   "source": [
    "#import numpy as np # linear algebra\n",
    "import pandas as pd # data processing, CSV file I/O (e.g. pd.read_csv)\n",
    "\n",
    "#visualization libraries\n",
    "import seaborn as sns # to change the visualization style to a base Seaborn style\n",
    "#import matplotlib.pyplot as plt\n",
    "#below allows to draw plots right under the cell rather than with separate window\n",
    "#%matplotlib inline\n",
    "sns.set() "
   ]
  },
  {
   "cell_type": "code",
   "execution_count": 28,
   "id": "fd205407",
   "metadata": {
    "execution": {
     "iopub.execute_input": "2024-10-15T17:32:59.283933Z",
     "iopub.status.busy": "2024-10-15T17:32:59.283402Z",
     "iopub.status.idle": "2024-10-15T17:32:59.326854Z",
     "shell.execute_reply": "2024-10-15T17:32:59.325803Z"
    },
    "papermill": {
     "duration": 0.060982,
     "end_time": "2024-10-15T17:32:59.329401",
     "exception": false,
     "start_time": "2024-10-15T17:32:59.268419",
     "status": "completed"
    },
    "tags": []
   },
   "outputs": [
    {
     "data": {
      "text/html": [
       "<div>\n",
       "<style scoped>\n",
       "    .dataframe tbody tr th:only-of-type {\n",
       "        vertical-align: middle;\n",
       "    }\n",
       "\n",
       "    .dataframe tbody tr th {\n",
       "        vertical-align: top;\n",
       "    }\n",
       "\n",
       "    .dataframe thead th {\n",
       "        text-align: right;\n",
       "    }\n",
       "</style>\n",
       "<table border=\"1\" class=\"dataframe\">\n",
       "  <thead>\n",
       "    <tr style=\"text-align: right;\">\n",
       "      <th></th>\n",
       "      <th>PassengerId</th>\n",
       "      <th>Survived</th>\n",
       "      <th>Pclass</th>\n",
       "      <th>Name</th>\n",
       "      <th>Sex</th>\n",
       "      <th>Age</th>\n",
       "      <th>SibSp</th>\n",
       "      <th>Parch</th>\n",
       "      <th>Ticket</th>\n",
       "      <th>Fare</th>\n",
       "      <th>Cabin</th>\n",
       "      <th>Embarked</th>\n",
       "    </tr>\n",
       "  </thead>\n",
       "  <tbody>\n",
       "    <tr>\n",
       "      <th>0</th>\n",
       "      <td>1</td>\n",
       "      <td>0</td>\n",
       "      <td>3</td>\n",
       "      <td>Braund, Mr. Owen Harris</td>\n",
       "      <td>male</td>\n",
       "      <td>22.0</td>\n",
       "      <td>1</td>\n",
       "      <td>0</td>\n",
       "      <td>A/5 21171</td>\n",
       "      <td>7.2500</td>\n",
       "      <td>NaN</td>\n",
       "      <td>S</td>\n",
       "    </tr>\n",
       "    <tr>\n",
       "      <th>1</th>\n",
       "      <td>2</td>\n",
       "      <td>1</td>\n",
       "      <td>1</td>\n",
       "      <td>Cumings, Mrs. John Bradley (Florence Briggs Th...</td>\n",
       "      <td>female</td>\n",
       "      <td>38.0</td>\n",
       "      <td>1</td>\n",
       "      <td>0</td>\n",
       "      <td>PC 17599</td>\n",
       "      <td>71.2833</td>\n",
       "      <td>C85</td>\n",
       "      <td>C</td>\n",
       "    </tr>\n",
       "    <tr>\n",
       "      <th>2</th>\n",
       "      <td>3</td>\n",
       "      <td>1</td>\n",
       "      <td>3</td>\n",
       "      <td>Heikkinen, Miss. Laina</td>\n",
       "      <td>female</td>\n",
       "      <td>26.0</td>\n",
       "      <td>0</td>\n",
       "      <td>0</td>\n",
       "      <td>STON/O2. 3101282</td>\n",
       "      <td>7.9250</td>\n",
       "      <td>NaN</td>\n",
       "      <td>S</td>\n",
       "    </tr>\n",
       "  </tbody>\n",
       "</table>\n",
       "</div>"
      ],
      "text/plain": [
       "   PassengerId  Survived  Pclass  \\\n",
       "0            1         0       3   \n",
       "1            2         1       1   \n",
       "2            3         1       3   \n",
       "\n",
       "                                                Name     Sex   Age  SibSp  \\\n",
       "0                            Braund, Mr. Owen Harris    male  22.0      1   \n",
       "1  Cumings, Mrs. John Bradley (Florence Briggs Th...  female  38.0      1   \n",
       "2                             Heikkinen, Miss. Laina  female  26.0      0   \n",
       "\n",
       "   Parch            Ticket     Fare Cabin Embarked  \n",
       "0      0         A/5 21171   7.2500   NaN        S  \n",
       "1      0          PC 17599  71.2833   C85        C  \n",
       "2      0  STON/O2. 3101282   7.9250   NaN        S  "
      ]
     },
     "execution_count": 28,
     "metadata": {},
     "output_type": "execute_result"
    }
   ],
   "source": [
    "train_data = pd.read_csv(\"./dataset/train.csv\")\n",
    "train_data.head(3)"
   ]
  },
  {
   "cell_type": "code",
   "execution_count": 29,
   "id": "fcb5f5ff",
   "metadata": {
    "execution": {
     "iopub.execute_input": "2024-10-15T17:32:59.355123Z",
     "iopub.status.busy": "2024-10-15T17:32:59.354656Z",
     "iopub.status.idle": "2024-10-15T17:32:59.375886Z",
     "shell.execute_reply": "2024-10-15T17:32:59.374682Z"
    },
    "papermill": {
     "duration": 0.037164,
     "end_time": "2024-10-15T17:32:59.378527",
     "exception": false,
     "start_time": "2024-10-15T17:32:59.341363",
     "status": "completed"
    },
    "tags": []
   },
   "outputs": [
    {
     "data": {
      "text/html": [
       "<div>\n",
       "<style scoped>\n",
       "    .dataframe tbody tr th:only-of-type {\n",
       "        vertical-align: middle;\n",
       "    }\n",
       "\n",
       "    .dataframe tbody tr th {\n",
       "        vertical-align: top;\n",
       "    }\n",
       "\n",
       "    .dataframe thead th {\n",
       "        text-align: right;\n",
       "    }\n",
       "</style>\n",
       "<table border=\"1\" class=\"dataframe\">\n",
       "  <thead>\n",
       "    <tr style=\"text-align: right;\">\n",
       "      <th></th>\n",
       "      <th>PassengerId</th>\n",
       "      <th>Pclass</th>\n",
       "      <th>Name</th>\n",
       "      <th>Sex</th>\n",
       "      <th>Age</th>\n",
       "      <th>SibSp</th>\n",
       "      <th>Parch</th>\n",
       "      <th>Ticket</th>\n",
       "      <th>Fare</th>\n",
       "      <th>Cabin</th>\n",
       "      <th>Embarked</th>\n",
       "    </tr>\n",
       "  </thead>\n",
       "  <tbody>\n",
       "    <tr>\n",
       "      <th>0</th>\n",
       "      <td>892</td>\n",
       "      <td>3</td>\n",
       "      <td>Kelly, Mr. James</td>\n",
       "      <td>male</td>\n",
       "      <td>34.5</td>\n",
       "      <td>0</td>\n",
       "      <td>0</td>\n",
       "      <td>330911</td>\n",
       "      <td>7.8292</td>\n",
       "      <td>NaN</td>\n",
       "      <td>Q</td>\n",
       "    </tr>\n",
       "    <tr>\n",
       "      <th>1</th>\n",
       "      <td>893</td>\n",
       "      <td>3</td>\n",
       "      <td>Wilkes, Mrs. James (Ellen Needs)</td>\n",
       "      <td>female</td>\n",
       "      <td>47.0</td>\n",
       "      <td>1</td>\n",
       "      <td>0</td>\n",
       "      <td>363272</td>\n",
       "      <td>7.0000</td>\n",
       "      <td>NaN</td>\n",
       "      <td>S</td>\n",
       "    </tr>\n",
       "    <tr>\n",
       "      <th>2</th>\n",
       "      <td>894</td>\n",
       "      <td>2</td>\n",
       "      <td>Myles, Mr. Thomas Francis</td>\n",
       "      <td>male</td>\n",
       "      <td>62.0</td>\n",
       "      <td>0</td>\n",
       "      <td>0</td>\n",
       "      <td>240276</td>\n",
       "      <td>9.6875</td>\n",
       "      <td>NaN</td>\n",
       "      <td>Q</td>\n",
       "    </tr>\n",
       "  </tbody>\n",
       "</table>\n",
       "</div>"
      ],
      "text/plain": [
       "   PassengerId  Pclass                              Name     Sex   Age  SibSp  \\\n",
       "0          892       3                  Kelly, Mr. James    male  34.5      0   \n",
       "1          893       3  Wilkes, Mrs. James (Ellen Needs)  female  47.0      1   \n",
       "2          894       2         Myles, Mr. Thomas Francis    male  62.0      0   \n",
       "\n",
       "   Parch  Ticket    Fare Cabin Embarked  \n",
       "0      0  330911  7.8292   NaN        Q  \n",
       "1      0  363272  7.0000   NaN        S  \n",
       "2      0  240276  9.6875   NaN        Q  "
      ]
     },
     "execution_count": 29,
     "metadata": {},
     "output_type": "execute_result"
    }
   ],
   "source": [
    "test_data = pd.read_csv(\"./dataset/test.csv\")\n",
    "test_data.head(3)"
   ]
  },
  {
   "cell_type": "markdown",
   "id": "0464b062",
   "metadata": {
    "papermill": {
     "duration": 0.011732,
     "end_time": "2024-10-15T17:32:59.402862",
     "exception": false,
     "start_time": "2024-10-15T17:32:59.391130",
     "status": "completed"
    },
    "tags": []
   },
   "source": [
    "# Section 2 - Lets look on data we have"
   ]
  },
  {
   "cell_type": "markdown",
   "id": "0df0bef3",
   "metadata": {
    "papermill": {
     "duration": 0.011907,
     "end_time": "2024-10-15T17:32:59.426775",
     "exception": false,
     "start_time": "2024-10-15T17:32:59.414868",
     "status": "completed"
    },
    "tags": []
   },
   "source": [
    "## Basic data analysis"
   ]
  },
  {
   "cell_type": "code",
   "execution_count": 4,
   "id": "4d814371",
   "metadata": {
    "execution": {
     "iopub.execute_input": "2024-10-15T17:32:59.453245Z",
     "iopub.status.busy": "2024-10-15T17:32:59.452500Z",
     "iopub.status.idle": "2024-10-15T17:32:59.476375Z",
     "shell.execute_reply": "2024-10-15T17:32:59.475229Z"
    },
    "papermill": {
     "duration": 0.039382,
     "end_time": "2024-10-15T17:32:59.478655",
     "exception": false,
     "start_time": "2024-10-15T17:32:59.439273",
     "status": "completed"
    },
    "tags": []
   },
   "outputs": [
    {
     "data": {
      "text/html": [
       "<div>\n",
       "<style scoped>\n",
       "    .dataframe tbody tr th:only-of-type {\n",
       "        vertical-align: middle;\n",
       "    }\n",
       "\n",
       "    .dataframe tbody tr th {\n",
       "        vertical-align: top;\n",
       "    }\n",
       "\n",
       "    .dataframe thead th {\n",
       "        text-align: right;\n",
       "    }\n",
       "</style>\n",
       "<table border=\"1\" class=\"dataframe\">\n",
       "  <thead>\n",
       "    <tr style=\"text-align: right;\">\n",
       "      <th></th>\n",
       "      <th>PassengerId</th>\n",
       "      <th>Survived</th>\n",
       "      <th>Pclass</th>\n",
       "      <th>Name</th>\n",
       "      <th>Sex</th>\n",
       "      <th>Age</th>\n",
       "      <th>SibSp</th>\n",
       "      <th>Parch</th>\n",
       "      <th>Ticket</th>\n",
       "      <th>Fare</th>\n",
       "      <th>Cabin</th>\n",
       "      <th>Embarked</th>\n",
       "    </tr>\n",
       "  </thead>\n",
       "  <tbody>\n",
       "    <tr>\n",
       "      <th>438</th>\n",
       "      <td>439</td>\n",
       "      <td>0</td>\n",
       "      <td>1</td>\n",
       "      <td>Fortune, Mr. Mark</td>\n",
       "      <td>male</td>\n",
       "      <td>64.0</td>\n",
       "      <td>1</td>\n",
       "      <td>4</td>\n",
       "      <td>19950</td>\n",
       "      <td>263.0000</td>\n",
       "      <td>C23 C25 C27</td>\n",
       "      <td>S</td>\n",
       "    </tr>\n",
       "    <tr>\n",
       "      <th>69</th>\n",
       "      <td>70</td>\n",
       "      <td>0</td>\n",
       "      <td>3</td>\n",
       "      <td>Kink, Mr. Vincenz</td>\n",
       "      <td>male</td>\n",
       "      <td>26.0</td>\n",
       "      <td>2</td>\n",
       "      <td>0</td>\n",
       "      <td>315151</td>\n",
       "      <td>8.6625</td>\n",
       "      <td>NaN</td>\n",
       "      <td>S</td>\n",
       "    </tr>\n",
       "    <tr>\n",
       "      <th>66</th>\n",
       "      <td>67</td>\n",
       "      <td>1</td>\n",
       "      <td>2</td>\n",
       "      <td>Nye, Mrs. (Elizabeth Ramell)</td>\n",
       "      <td>female</td>\n",
       "      <td>29.0</td>\n",
       "      <td>0</td>\n",
       "      <td>0</td>\n",
       "      <td>C.A. 29395</td>\n",
       "      <td>10.5000</td>\n",
       "      <td>F33</td>\n",
       "      <td>S</td>\n",
       "    </tr>\n",
       "    <tr>\n",
       "      <th>219</th>\n",
       "      <td>220</td>\n",
       "      <td>0</td>\n",
       "      <td>2</td>\n",
       "      <td>Harris, Mr. Walter</td>\n",
       "      <td>male</td>\n",
       "      <td>30.0</td>\n",
       "      <td>0</td>\n",
       "      <td>0</td>\n",
       "      <td>W/C 14208</td>\n",
       "      <td>10.5000</td>\n",
       "      <td>NaN</td>\n",
       "      <td>S</td>\n",
       "    </tr>\n",
       "    <tr>\n",
       "      <th>136</th>\n",
       "      <td>137</td>\n",
       "      <td>1</td>\n",
       "      <td>1</td>\n",
       "      <td>Newsom, Miss. Helen Monypeny</td>\n",
       "      <td>female</td>\n",
       "      <td>19.0</td>\n",
       "      <td>0</td>\n",
       "      <td>2</td>\n",
       "      <td>11752</td>\n",
       "      <td>26.2833</td>\n",
       "      <td>D47</td>\n",
       "      <td>S</td>\n",
       "    </tr>\n",
       "    <tr>\n",
       "      <th>269</th>\n",
       "      <td>270</td>\n",
       "      <td>1</td>\n",
       "      <td>1</td>\n",
       "      <td>Bissette, Miss. Amelia</td>\n",
       "      <td>female</td>\n",
       "      <td>35.0</td>\n",
       "      <td>0</td>\n",
       "      <td>0</td>\n",
       "      <td>PC 17760</td>\n",
       "      <td>135.6333</td>\n",
       "      <td>C99</td>\n",
       "      <td>S</td>\n",
       "    </tr>\n",
       "    <tr>\n",
       "      <th>673</th>\n",
       "      <td>674</td>\n",
       "      <td>1</td>\n",
       "      <td>2</td>\n",
       "      <td>Wilhelms, Mr. Charles</td>\n",
       "      <td>male</td>\n",
       "      <td>31.0</td>\n",
       "      <td>0</td>\n",
       "      <td>0</td>\n",
       "      <td>244270</td>\n",
       "      <td>13.0000</td>\n",
       "      <td>NaN</td>\n",
       "      <td>S</td>\n",
       "    </tr>\n",
       "    <tr>\n",
       "      <th>882</th>\n",
       "      <td>883</td>\n",
       "      <td>0</td>\n",
       "      <td>3</td>\n",
       "      <td>Dahlberg, Miss. Gerda Ulrika</td>\n",
       "      <td>female</td>\n",
       "      <td>22.0</td>\n",
       "      <td>0</td>\n",
       "      <td>0</td>\n",
       "      <td>7552</td>\n",
       "      <td>10.5167</td>\n",
       "      <td>NaN</td>\n",
       "      <td>S</td>\n",
       "    </tr>\n",
       "    <tr>\n",
       "      <th>850</th>\n",
       "      <td>851</td>\n",
       "      <td>0</td>\n",
       "      <td>3</td>\n",
       "      <td>Andersson, Master. Sigvard Harald Elias</td>\n",
       "      <td>male</td>\n",
       "      <td>4.0</td>\n",
       "      <td>4</td>\n",
       "      <td>2</td>\n",
       "      <td>347082</td>\n",
       "      <td>31.2750</td>\n",
       "      <td>NaN</td>\n",
       "      <td>S</td>\n",
       "    </tr>\n",
       "    <tr>\n",
       "      <th>159</th>\n",
       "      <td>160</td>\n",
       "      <td>0</td>\n",
       "      <td>3</td>\n",
       "      <td>Sage, Master. Thomas Henry</td>\n",
       "      <td>male</td>\n",
       "      <td>NaN</td>\n",
       "      <td>8</td>\n",
       "      <td>2</td>\n",
       "      <td>CA. 2343</td>\n",
       "      <td>69.5500</td>\n",
       "      <td>NaN</td>\n",
       "      <td>S</td>\n",
       "    </tr>\n",
       "  </tbody>\n",
       "</table>\n",
       "</div>"
      ],
      "text/plain": [
       "     PassengerId  Survived  Pclass                                     Name  \\\n",
       "438          439         0       1                        Fortune, Mr. Mark   \n",
       "69            70         0       3                        Kink, Mr. Vincenz   \n",
       "66            67         1       2             Nye, Mrs. (Elizabeth Ramell)   \n",
       "219          220         0       2                       Harris, Mr. Walter   \n",
       "136          137         1       1             Newsom, Miss. Helen Monypeny   \n",
       "269          270         1       1                   Bissette, Miss. Amelia   \n",
       "673          674         1       2                    Wilhelms, Mr. Charles   \n",
       "882          883         0       3             Dahlberg, Miss. Gerda Ulrika   \n",
       "850          851         0       3  Andersson, Master. Sigvard Harald Elias   \n",
       "159          160         0       3               Sage, Master. Thomas Henry   \n",
       "\n",
       "        Sex   Age  SibSp  Parch      Ticket      Fare        Cabin Embarked  \n",
       "438    male  64.0      1      4       19950  263.0000  C23 C25 C27        S  \n",
       "69     male  26.0      2      0      315151    8.6625          NaN        S  \n",
       "66   female  29.0      0      0  C.A. 29395   10.5000          F33        S  \n",
       "219    male  30.0      0      0   W/C 14208   10.5000          NaN        S  \n",
       "136  female  19.0      0      2       11752   26.2833          D47        S  \n",
       "269  female  35.0      0      0    PC 17760  135.6333          C99        S  \n",
       "673    male  31.0      0      0      244270   13.0000          NaN        S  \n",
       "882  female  22.0      0      0        7552   10.5167          NaN        S  \n",
       "850    male   4.0      4      2      347082   31.2750          NaN        S  \n",
       "159    male   NaN      8      2    CA. 2343   69.5500          NaN        S  "
      ]
     },
     "execution_count": 4,
     "metadata": {},
     "output_type": "execute_result"
    }
   ],
   "source": [
    "train_data.sample(10)"
   ]
  },
  {
   "cell_type": "markdown",
   "id": "8e53f03d",
   "metadata": {
    "papermill": {
     "duration": 0.012013,
     "end_time": "2024-10-15T17:32:59.503090",
     "exception": false,
     "start_time": "2024-10-15T17:32:59.491077",
     "status": "completed"
    },
    "tags": []
   },
   "source": [
    "We need to extract data types we have in train set, below method will summarize it"
   ]
  },
  {
   "cell_type": "code",
   "execution_count": 5,
   "id": "7cf03f35",
   "metadata": {
    "execution": {
     "iopub.execute_input": "2024-10-15T17:32:59.529222Z",
     "iopub.status.busy": "2024-10-15T17:32:59.528768Z",
     "iopub.status.idle": "2024-10-15T17:32:59.549031Z",
     "shell.execute_reply": "2024-10-15T17:32:59.547883Z"
    },
    "papermill": {
     "duration": 0.037139,
     "end_time": "2024-10-15T17:32:59.552422",
     "exception": false,
     "start_time": "2024-10-15T17:32:59.515283",
     "status": "completed"
    },
    "tags": []
   },
   "outputs": [
    {
     "name": "stdout",
     "output_type": "stream",
     "text": [
      "<class 'pandas.core.frame.DataFrame'>\n",
      "RangeIndex: 891 entries, 0 to 890\n",
      "Data columns (total 12 columns):\n",
      " #   Column       Non-Null Count  Dtype  \n",
      "---  ------       --------------  -----  \n",
      " 0   PassengerId  891 non-null    int64  \n",
      " 1   Survived     891 non-null    int64  \n",
      " 2   Pclass       891 non-null    int64  \n",
      " 3   Name         891 non-null    object \n",
      " 4   Sex          891 non-null    object \n",
      " 5   Age          714 non-null    float64\n",
      " 6   SibSp        891 non-null    int64  \n",
      " 7   Parch        891 non-null    int64  \n",
      " 8   Ticket       891 non-null    object \n",
      " 9   Fare         891 non-null    float64\n",
      " 10  Cabin        204 non-null    object \n",
      " 11  Embarked     889 non-null    object \n",
      "dtypes: float64(2), int64(5), object(5)\n",
      "memory usage: 83.7+ KB\n"
     ]
    }
   ],
   "source": [
    "train_data.info()"
   ]
  },
  {
   "cell_type": "markdown",
   "id": "4e9e5aff",
   "metadata": {
    "papermill": {
     "duration": 0.01246,
     "end_time": "2024-10-15T17:32:59.577628",
     "exception": false,
     "start_time": "2024-10-15T17:32:59.565168",
     "status": "completed"
    },
    "tags": []
   },
   "source": [
    "Looking on this we can spot which features do miss some values and what are their types:\n",
    "\n",
    "**Age** - 714 filled - since this value for sure impacts our model we **will add** the missing ones\n",
    "\n",
    "**Cabin** - 204 filled - majority of this is not filled in so putting the data there will be rather a big speculation as so not good candidate to be taken under consideration for our model, thus **dropping this** column makes most sense\n",
    "\n",
    "**Embarked** - 889 filled - only 2 missing - very low impact on training set so no harm if we **fill this** in and keep consistency"
   ]
  },
  {
   "cell_type": "markdown",
   "id": "43ec42f4",
   "metadata": {
    "papermill": {
     "duration": 0.012119,
     "end_time": "2024-10-15T17:32:59.602318",
     "exception": false,
     "start_time": "2024-10-15T17:32:59.590199",
     "status": "completed"
    },
    "tags": []
   },
   "source": [
    "Always good to check if we have duplicates:"
   ]
  },
  {
   "cell_type": "code",
   "execution_count": 6,
   "id": "dabc8698",
   "metadata": {
    "execution": {
     "iopub.execute_input": "2024-10-15T17:32:59.628743Z",
     "iopub.status.busy": "2024-10-15T17:32:59.628378Z",
     "iopub.status.idle": "2024-10-15T17:32:59.642652Z",
     "shell.execute_reply": "2024-10-15T17:32:59.641664Z"
    },
    "papermill": {
     "duration": 0.030544,
     "end_time": "2024-10-15T17:32:59.645154",
     "exception": false,
     "start_time": "2024-10-15T17:32:59.614610",
     "status": "completed"
    },
    "tags": []
   },
   "outputs": [
    {
     "data": {
      "text/html": [
       "<div>\n",
       "<style scoped>\n",
       "    .dataframe tbody tr th:only-of-type {\n",
       "        vertical-align: middle;\n",
       "    }\n",
       "\n",
       "    .dataframe tbody tr th {\n",
       "        vertical-align: top;\n",
       "    }\n",
       "\n",
       "    .dataframe thead th {\n",
       "        text-align: right;\n",
       "    }\n",
       "</style>\n",
       "<table border=\"1\" class=\"dataframe\">\n",
       "  <thead>\n",
       "    <tr style=\"text-align: right;\">\n",
       "      <th></th>\n",
       "      <th>PassengerId</th>\n",
       "      <th>Survived</th>\n",
       "      <th>Pclass</th>\n",
       "      <th>Name</th>\n",
       "      <th>Sex</th>\n",
       "      <th>Age</th>\n",
       "      <th>SibSp</th>\n",
       "      <th>Parch</th>\n",
       "      <th>Ticket</th>\n",
       "      <th>Fare</th>\n",
       "      <th>Cabin</th>\n",
       "      <th>Embarked</th>\n",
       "    </tr>\n",
       "  </thead>\n",
       "  <tbody>\n",
       "  </tbody>\n",
       "</table>\n",
       "</div>"
      ],
      "text/plain": [
       "Empty DataFrame\n",
       "Columns: [PassengerId, Survived, Pclass, Name, Sex, Age, SibSp, Parch, Ticket, Fare, Cabin, Embarked]\n",
       "Index: []"
      ]
     },
     "execution_count": 6,
     "metadata": {},
     "output_type": "execute_result"
    }
   ],
   "source": [
    "train_data.loc[train_data.duplicated()]"
   ]
  },
  {
   "cell_type": "markdown",
   "id": "25efdc7b",
   "metadata": {
    "papermill": {
     "duration": 0.01237,
     "end_time": "2024-10-15T17:32:59.670178",
     "exception": false,
     "start_time": "2024-10-15T17:32:59.657808",
     "status": "completed"
    },
    "tags": []
   },
   "source": [
    "Looks not... lets continue then"
   ]
  },
  {
   "cell_type": "markdown",
   "id": "9d91d278",
   "metadata": {
    "papermill": {
     "duration": 0.012508,
     "end_time": "2024-10-15T17:32:59.697110",
     "exception": false,
     "start_time": "2024-10-15T17:32:59.684602",
     "status": "completed"
    },
    "tags": []
   },
   "source": [
    "## Visualizing data"
   ]
  },
  {
   "cell_type": "markdown",
   "id": "ba07cede",
   "metadata": {
    "papermill": {
     "duration": 0.012307,
     "end_time": "2024-10-15T17:32:59.721994",
     "exception": false,
     "start_time": "2024-10-15T17:32:59.709687",
     "status": "completed"
    },
    "tags": []
   },
   "source": [
    "Now its time to make some predictions with graphs to find strongest features influencing survavibility, lets analyze all of them:\n",
    "\n"
   ]
  },
  {
   "cell_type": "code",
   "execution_count": 7,
   "id": "17445014",
   "metadata": {
    "execution": {
     "iopub.execute_input": "2024-10-15T17:32:59.748673Z",
     "iopub.status.busy": "2024-10-15T17:32:59.748327Z",
     "iopub.status.idle": "2024-10-15T17:32:59.754063Z",
     "shell.execute_reply": "2024-10-15T17:32:59.752982Z"
    },
    "papermill": {
     "duration": 0.02203,
     "end_time": "2024-10-15T17:32:59.756615",
     "exception": false,
     "start_time": "2024-10-15T17:32:59.734585",
     "status": "completed"
    },
    "tags": []
   },
   "outputs": [
    {
     "name": "stdout",
     "output_type": "stream",
     "text": [
      "Index(['PassengerId', 'Survived', 'Pclass', 'Name', 'Sex', 'Age', 'SibSp',\n",
      "       'Parch', 'Ticket', 'Fare', 'Cabin', 'Embarked'],\n",
      "      dtype='object')\n"
     ]
    }
   ],
   "source": [
    "print(train_data.columns)"
   ]
  },
  {
   "cell_type": "markdown",
   "id": "0ad4cf9d",
   "metadata": {
    "papermill": {
     "duration": 0.01252,
     "end_time": "2024-10-15T17:32:59.781951",
     "exception": false,
     "start_time": "2024-10-15T17:32:59.769431",
     "status": "completed"
    },
    "tags": []
   },
   "source": [
    "'PassengerId' - not relevant for our predictions\n",
    "\n",
    "'Survived' - this is what we want to predict s we cant take this\n",
    "\n",
    "'Pclass' - YES, passenger class may have an influence on where passeger was during catastrophy - visualize it to spot it\n",
    "\n",
    "'Name' - NO, - not relevant for our predictions\n",
    "\n",
    "'Sex' - YES, depends on sex we may see higher or lower ratio so investigate it and visualize it\n",
    "\n",
    "'Age' - YES, age may have influence on survivability - investigate and visualize it\n",
    "\n",
    "'SibSp' - YES, having siblings or spouse may affect survavibility - check it and visualize it\n",
    "\n",
    "'Parch' - YES, parents with kids may have impact, maybe its good to corelate this with 'SibSp' under 'Family_members', anywa investigate\n",
    "\n",
    "'Ticket' - NO, ticket is alphannumeric and does not show any specific corelation to survavibility rate\n",
    "\n",
    "'Fare' - YES, this looks like a corelation to Pclass maybe? - investigate it\n",
    "\n",
    "'Cabin' - NO, as mentioned above since there are too many missing data on this its hard to corelate \n",
    "\n",
    "'Embarked' - YES, port from which passegner embarked - investigate it"
   ]
  },
  {
   "cell_type": "markdown",
   "id": "4799158f",
   "metadata": {
    "papermill": {
     "duration": 0.012398,
     "end_time": "2024-10-15T17:32:59.807506",
     "exception": false,
     "start_time": "2024-10-15T17:32:59.795108",
     "status": "completed"
    },
    "tags": []
   },
   "source": [
    "**Pclass**"
   ]
  },
  {
   "cell_type": "code",
   "execution_count": 8,
   "id": "d0e8e89f",
   "metadata": {
    "execution": {
     "iopub.execute_input": "2024-10-15T17:32:59.835298Z",
     "iopub.status.busy": "2024-10-15T17:32:59.834271Z",
     "iopub.status.idle": "2024-10-15T17:33:00.418614Z",
     "shell.execute_reply": "2024-10-15T17:33:00.417283Z"
    },
    "papermill": {
     "duration": 0.601016,
     "end_time": "2024-10-15T17:33:00.421283",
     "exception": false,
     "start_time": "2024-10-15T17:32:59.820267",
     "status": "completed"
    },
    "tags": []
   },
   "outputs": [
    {
     "data": {
      "text/plain": [
       "<Axes: xlabel='Pclass', ylabel='Survived'>"
      ]
     },
     "execution_count": 8,
     "metadata": {},
     "output_type": "execute_result"
    },
    {
     "data": {
      "image/png": "[encoded data removed]",
      "text/plain": [
       "<Figure size 640x480 with 1 Axes>"
      ]
     },
     "metadata": {},
     "output_type": "display_data"
    }
   ],
   "source": [
    "sns.barplot(x=\"Pclass\", y=\"Survived\", data=train_data, estimator=lambda x: sum(x == 1) * 100 / len(x))"
   ]
  },
  {
   "cell_type": "markdown",
   "id": "0ec44fcd",
   "metadata": {
    "papermill": {
     "duration": 0.012887,
     "end_time": "2024-10-15T17:33:00.447479",
     "exception": false,
     "start_time": "2024-10-15T17:33:00.434592",
     "status": "completed"
    },
    "tags": []
   },
   "source": [
    "**Conclusion: Pclass** has big impact on survavibility as most of the passengers in 1st class survived while 3rd died"
   ]
  },
  {
   "cell_type": "markdown",
   "id": "b5d92246",
   "metadata": {
    "papermill": {
     "duration": 0.015875,
     "end_time": "2024-10-15T17:33:00.476596",
     "exception": false,
     "start_time": "2024-10-15T17:33:00.460721",
     "status": "completed"
    },
    "tags": []
   },
   "source": [
    "**Sex**"
   ]
  },
  {
   "cell_type": "code",
   "execution_count": 9,
   "id": "fc2157a1",
   "metadata": {
    "execution": {
     "iopub.execute_input": "2024-10-15T17:33:00.569461Z",
     "iopub.status.busy": "2024-10-15T17:33:00.568989Z",
     "iopub.status.idle": "2024-10-15T17:33:01.040228Z",
     "shell.execute_reply": "2024-10-15T17:33:01.039168Z"
    },
    "papermill": {
     "duration": 0.489198,
     "end_time": "2024-10-15T17:33:01.043122",
     "exception": false,
     "start_time": "2024-10-15T17:33:00.553924",
     "status": "completed"
    },
    "tags": []
   },
   "outputs": [
    {
     "data": {
      "text/plain": [
       "<Axes: xlabel='Sex', ylabel='Survived'>"
      ]
     },
     "execution_count": 9,
     "metadata": {},
     "output_type": "execute_result"
    },
    {
     "data": {
      "image/png": "[encoded data removed]",
      "text/plain": [
       "<Figure size 640x480 with 1 Axes>"
      ]
     },
     "metadata": {},
     "output_type": "display_data"
    }
   ],
   "source": [
    "sns.barplot(x=\"Sex\", y=\"Survived\", data=train_data, estimator=lambda x: sum(x == 1) * 100 / len(x))"
   ]
  },
  {
   "cell_type": "code",
   "execution_count": 10,
   "id": "c98da317",
   "metadata": {
    "execution": {
     "iopub.execute_input": "2024-10-15T17:33:01.089149Z",
     "iopub.status.busy": "2024-10-15T17:33:01.087737Z",
     "iopub.status.idle": "2024-10-15T17:33:01.101222Z",
     "shell.execute_reply": "2024-10-15T17:33:01.099934Z"
    },
    "papermill": {
     "duration": 0.039511,
     "end_time": "2024-10-15T17:33:01.104234",
     "exception": false,
     "start_time": "2024-10-15T17:33:01.064723",
     "status": "completed"
    },
    "tags": []
   },
   "outputs": [
    {
     "data": {
      "text/plain": [
       "Sex\n",
       "female    0.742038\n",
       "male      0.188908\n",
       "Name: Survived, dtype: float64"
      ]
     },
     "execution_count": 10,
     "metadata": {},
     "output_type": "execute_result"
    }
   ],
   "source": [
    "train_data.groupby(train_data['Sex'])['Survived'].mean()"
   ]
  },
  {
   "cell_type": "markdown",
   "id": "1123070d",
   "metadata": {
    "papermill": {
     "duration": 0.013649,
     "end_time": "2024-10-15T17:33:01.132106",
     "exception": false,
     "start_time": "2024-10-15T17:33:01.118457",
     "status": "completed"
    },
    "tags": []
   },
   "source": [
    "**Conclusion: Sex** - important factor as majority of women survived while men died"
   ]
  },
  {
   "cell_type": "markdown",
   "id": "e809ea05",
   "metadata": {
    "papermill": {
     "duration": 0.013665,
     "end_time": "2024-10-15T17:33:01.159539",
     "exception": false,
     "start_time": "2024-10-15T17:33:01.145874",
     "status": "completed"
    },
    "tags": []
   },
   "source": [
    "**Age**"
   ]
  },
  {
   "cell_type": "code",
   "execution_count": 11,
   "id": "90af94b4",
   "metadata": {
    "execution": {
     "iopub.execute_input": "2024-10-15T17:33:01.189995Z",
     "iopub.status.busy": "2024-10-15T17:33:01.188867Z",
     "iopub.status.idle": "2024-10-15T17:33:01.735983Z",
     "shell.execute_reply": "2024-10-15T17:33:01.735003Z"
    },
    "papermill": {
     "duration": 0.565373,
     "end_time": "2024-10-15T17:33:01.738692",
     "exception": false,
     "start_time": "2024-10-15T17:33:01.173319",
     "status": "completed"
    },
    "tags": []
   },
   "outputs": [
    {
     "data": {
      "text/plain": [
       "<Axes: xlabel='Age', ylabel='Survived'>"
      ]
     },
     "execution_count": 11,
     "metadata": {},
     "output_type": "execute_result"
    },
    {
     "data": {
      "image/png": "[encoded data removed]",
      "text/plain": [
       "<Figure size 640x480 with 1 Axes>"
      ]
     },
     "metadata": {},
     "output_type": "display_data"
    }
   ],
   "source": [
    "sns.scatterplot(x=\"Age\", y=\"Survived\", data=train_data, hue='Survived')"
   ]
  },
  {
   "cell_type": "markdown",
   "id": "166f355e",
   "metadata": {
    "papermill": {
     "duration": 0.014022,
     "end_time": "2024-10-15T17:33:01.767074",
     "exception": false,
     "start_time": "2024-10-15T17:33:01.753052",
     "status": "completed"
    },
    "tags": []
   },
   "source": [
    "Since there are many values for age its better to group them to find some corelation with survavibiloty, lets try it with:"
   ]
  },
  {
   "cell_type": "code",
   "execution_count": 12,
   "id": "ebfb2382",
   "metadata": {
    "execution": {
     "iopub.execute_input": "2024-10-15T17:33:01.797659Z",
     "iopub.status.busy": "2024-10-15T17:33:01.797248Z",
     "iopub.status.idle": "2024-10-15T17:33:02.166012Z",
     "shell.execute_reply": "2024-10-15T17:33:02.164888Z"
    },
    "papermill": {
     "duration": 0.387053,
     "end_time": "2024-10-15T17:33:02.168526",
     "exception": false,
     "start_time": "2024-10-15T17:33:01.781473",
     "status": "completed"
    },
    "tags": []
   },
   "outputs": [
    {
     "data": {
      "text/plain": [
       "<Axes: xlabel='Age'>"
      ]
     },
     "execution_count": 12,
     "metadata": {},
     "output_type": "execute_result"
    },
    {
     "data": {
      "image/png": "[encoded data removed]",
      "text/plain": [
       "<Figure size 640x480 with 1 Axes>"
      ]
     },
     "metadata": {},
     "output_type": "display_data"
    }
   ],
   "source": [
    "group = pd.cut(train_data.Age, [0,8,18,30,40,50,60,100])\n",
    "piv_fare = train_data.pivot_table(index=group, columns='Survived', values = 'Age', aggfunc='count', observed=False)\n",
    "piv_fare.plot(kind='bar')"
   ]
  },
  {
   "cell_type": "markdown",
   "id": "1c50d1d4",
   "metadata": {
    "papermill": {
     "duration": 0.014645,
     "end_time": "2024-10-15T17:33:02.198516",
     "exception": false,
     "start_time": "2024-10-15T17:33:02.183871",
     "status": "completed"
    },
    "tags": []
   },
   "source": [
    "**Conclusion: Age** - looks like kids had higher chances to survive than other groups but overall Age is not strongly corelated with Survived. Also keep in mind that there are about 20% missing values in train set."
   ]
  },
  {
   "cell_type": "markdown",
   "id": "ca9bcb83",
   "metadata": {
    "papermill": {
     "duration": 0.015055,
     "end_time": "2024-10-15T17:33:02.228828",
     "exception": false,
     "start_time": "2024-10-15T17:33:02.213773",
     "status": "completed"
    },
    "tags": []
   },
   "source": [
    "**SibSp**"
   ]
  },
  {
   "cell_type": "code",
   "execution_count": 13,
   "id": "b750ea22",
   "metadata": {
    "execution": {
     "iopub.execute_input": "2024-10-15T17:33:02.260643Z",
     "iopub.status.busy": "2024-10-15T17:33:02.260264Z",
     "iopub.status.idle": "2024-10-15T17:33:02.277004Z",
     "shell.execute_reply": "2024-10-15T17:33:02.275878Z"
    },
    "papermill": {
     "duration": 0.035591,
     "end_time": "2024-10-15T17:33:02.279568",
     "exception": false,
     "start_time": "2024-10-15T17:33:02.243977",
     "status": "completed"
    },
    "tags": []
   },
   "outputs": [
    {
     "data": {
      "text/html": [
       "<div>\n",
       "<style scoped>\n",
       "    .dataframe tbody tr th:only-of-type {\n",
       "        vertical-align: middle;\n",
       "    }\n",
       "\n",
       "    .dataframe tbody tr th {\n",
       "        vertical-align: top;\n",
       "    }\n",
       "\n",
       "    .dataframe thead th {\n",
       "        text-align: right;\n",
       "    }\n",
       "</style>\n",
       "<table border=\"1\" class=\"dataframe\">\n",
       "  <thead>\n",
       "    <tr style=\"text-align: right;\">\n",
       "      <th></th>\n",
       "      <th>SibSp</th>\n",
       "      <th>Survived</th>\n",
       "    </tr>\n",
       "  </thead>\n",
       "  <tbody>\n",
       "    <tr>\n",
       "      <th>1</th>\n",
       "      <td>1</td>\n",
       "      <td>0.535885</td>\n",
       "    </tr>\n",
       "    <tr>\n",
       "      <th>2</th>\n",
       "      <td>2</td>\n",
       "      <td>0.464286</td>\n",
       "    </tr>\n",
       "    <tr>\n",
       "      <th>0</th>\n",
       "      <td>0</td>\n",
       "      <td>0.345395</td>\n",
       "    </tr>\n",
       "    <tr>\n",
       "      <th>3</th>\n",
       "      <td>3</td>\n",
       "      <td>0.250000</td>\n",
       "    </tr>\n",
       "    <tr>\n",
       "      <th>4</th>\n",
       "      <td>4</td>\n",
       "      <td>0.166667</td>\n",
       "    </tr>\n",
       "    <tr>\n",
       "      <th>5</th>\n",
       "      <td>5</td>\n",
       "      <td>0.000000</td>\n",
       "    </tr>\n",
       "    <tr>\n",
       "      <th>6</th>\n",
       "      <td>8</td>\n",
       "      <td>0.000000</td>\n",
       "    </tr>\n",
       "  </tbody>\n",
       "</table>\n",
       "</div>"
      ],
      "text/plain": [
       "   SibSp  Survived\n",
       "1      1  0.535885\n",
       "2      2  0.464286\n",
       "0      0  0.345395\n",
       "3      3  0.250000\n",
       "4      4  0.166667\n",
       "5      5  0.000000\n",
       "6      8  0.000000"
      ]
     },
     "execution_count": 13,
     "metadata": {},
     "output_type": "execute_result"
    }
   ],
   "source": [
    "train_data[['SibSp', 'Survived']].groupby(['SibSp'], as_index=False).mean().sort_values(by='Survived', ascending=False)"
   ]
  },
  {
   "cell_type": "markdown",
   "id": "8c660311",
   "metadata": {
    "papermill": {
     "duration": 0.016796,
     "end_time": "2024-10-15T17:33:02.311752",
     "exception": false,
     "start_time": "2024-10-15T17:33:02.294956",
     "status": "completed"
    },
    "tags": []
   },
   "source": [
    "**Conclusion: SibSp** - From this quick look we know that people with bigger families were less likely to survive. We will combine this parameter into 'Family' in Section 3"
   ]
  },
  {
   "cell_type": "markdown",
   "id": "899d76c4",
   "metadata": {
    "papermill": {
     "duration": 0.014981,
     "end_time": "2024-10-15T17:33:02.342117",
     "exception": false,
     "start_time": "2024-10-15T17:33:02.327136",
     "status": "completed"
    },
    "tags": []
   },
   "source": [
    "**Parch**"
   ]
  },
  {
   "cell_type": "code",
   "execution_count": 14,
   "id": "26f19f70",
   "metadata": {
    "execution": {
     "iopub.execute_input": "2024-10-15T17:33:02.374509Z",
     "iopub.status.busy": "2024-10-15T17:33:02.374131Z",
     "iopub.status.idle": "2024-10-15T17:33:02.903542Z",
     "shell.execute_reply": "2024-10-15T17:33:02.902414Z"
    },
    "papermill": {
     "duration": 0.548588,
     "end_time": "2024-10-15T17:33:02.906080",
     "exception": false,
     "start_time": "2024-10-15T17:33:02.357492",
     "status": "completed"
    },
    "tags": []
   },
   "outputs": [
    {
     "data": {
      "text/plain": [
       "<seaborn.axisgrid.FacetGrid at 0x17d99c2a910>"
      ]
     },
     "execution_count": 14,
     "metadata": {},
     "output_type": "execute_result"
    },
    {
     "data": {
      "image/png": "[encoded data removed]",
      "text/plain": [
       "<Figure size 512.222x500 with 1 Axes>"
      ]
     },
     "metadata": {},
     "output_type": "display_data"
    }
   ],
   "source": [
    "sns.catplot(x='Parch', y='Survived', data=train_data, kind='bar')"
   ]
  },
  {
   "cell_type": "markdown",
   "id": "16f0320c",
   "metadata": {
    "papermill": {
     "duration": 0.015905,
     "end_time": "2024-10-15T17:33:02.937792",
     "exception": false,
     "start_time": "2024-10-15T17:33:02.921887",
     "status": "completed"
    },
    "tags": []
   },
   "source": [
    "**Conclusion: Parch** - People with less than 4 children are more likely to survive, on the other hand people without childrean are also less likely to survive (than 1-3 members families) We will combine this parameter into 'Family' in Section 3"
   ]
  },
  {
   "cell_type": "markdown",
   "id": "09433416",
   "metadata": {
    "papermill": {
     "duration": 0.015241,
     "end_time": "2024-10-15T17:33:02.969820",
     "exception": false,
     "start_time": "2024-10-15T17:33:02.954579",
     "status": "completed"
    },
    "tags": []
   },
   "source": [
    "**Fare**"
   ]
  },
  {
   "cell_type": "code",
   "execution_count": 15,
   "id": "e202ff32",
   "metadata": {
    "execution": {
     "iopub.execute_input": "2024-10-15T17:33:03.003029Z",
     "iopub.status.busy": "2024-10-15T17:33:03.002623Z",
     "iopub.status.idle": "2024-10-15T17:33:03.443429Z",
     "shell.execute_reply": "2024-10-15T17:33:03.442014Z"
    },
    "papermill": {
     "duration": 0.460723,
     "end_time": "2024-10-15T17:33:03.446207",
     "exception": false,
     "start_time": "2024-10-15T17:33:02.985484",
     "status": "completed"
    },
    "tags": []
   },
   "outputs": [
    {
     "data": {
      "text/plain": [
       "<Axes: xlabel='Fare', ylabel='Survived'>"
      ]
     },
     "execution_count": 15,
     "metadata": {},
     "output_type": "execute_result"
    },
    {
     "data": {
      "image/png": "[encoded data removed]",
      "text/plain": [
       "<Figure size 640x480 with 1 Axes>"
      ]
     },
     "metadata": {},
     "output_type": "display_data"
    }
   ],
   "source": [
    "sns.scatterplot(x=\"Fare\", y=\"Survived\", data=train_data, hue='Survived')"
   ]
  },
  {
   "cell_type": "markdown",
   "id": "07332a7d",
   "metadata": {
    "papermill": {
     "duration": 0.015992,
     "end_time": "2024-10-15T17:33:03.479484",
     "exception": false,
     "start_time": "2024-10-15T17:33:03.463492",
     "status": "completed"
    },
    "tags": []
   },
   "source": [
    "Here also since there are many value it make sens to group them"
   ]
  },
  {
   "cell_type": "code",
   "execution_count": 16,
   "id": "396787ce",
   "metadata": {
    "execution": {
     "iopub.execute_input": "2024-10-15T17:33:03.513476Z",
     "iopub.status.busy": "2024-10-15T17:33:03.513093Z",
     "iopub.status.idle": "2024-10-15T17:33:03.795547Z",
     "shell.execute_reply": "2024-10-15T17:33:03.794424Z"
    },
    "papermill": {
     "duration": 0.302594,
     "end_time": "2024-10-15T17:33:03.798236",
     "exception": false,
     "start_time": "2024-10-15T17:33:03.495642",
     "status": "completed"
    },
    "tags": []
   },
   "outputs": [
    {
     "data": {
      "text/plain": [
       "<Axes: xlabel='Fare'>"
      ]
     },
     "execution_count": 16,
     "metadata": {},
     "output_type": "execute_result"
    },
    {
     "data": {
      "image/png": "[encoded data removed]",
      "text/plain": [
       "<Figure size 640x480 with 1 Axes>"
      ]
     },
     "metadata": {},
     "output_type": "display_data"
    }
   ],
   "source": [
    "group = pd.cut(train_data.Fare, [0,50,100,200,500])\n",
    "piv_fare = train_data.pivot_table(index=group, columns='Survived', values = 'Fare', aggfunc='count', observed=False)\n",
    "piv_fare.plot(kind='bar')"
   ]
  },
  {
   "cell_type": "markdown",
   "id": "848ed417",
   "metadata": {
    "papermill": {
     "duration": 0.016479,
     "end_time": "2024-10-15T17:33:03.831632",
     "exception": false,
     "start_time": "2024-10-15T17:33:03.815153",
     "status": "completed"
    },
    "tags": []
   },
   "source": [
    "Conclusion: Fare - it looks like more expensive tickets survived more"
   ]
  },
  {
   "cell_type": "markdown",
   "id": "3a51e7a4",
   "metadata": {
    "papermill": {
     "duration": 0.016372,
     "end_time": "2024-10-15T17:33:03.865559",
     "exception": false,
     "start_time": "2024-10-15T17:33:03.849187",
     "status": "completed"
    },
    "tags": []
   },
   "source": [
    "**Embarked**"
   ]
  },
  {
   "cell_type": "code",
   "execution_count": 17,
   "id": "993d5665",
   "metadata": {
    "execution": {
     "iopub.execute_input": "2024-10-15T17:33:03.900582Z",
     "iopub.status.busy": "2024-10-15T17:33:03.900196Z",
     "iopub.status.idle": "2024-10-15T17:33:04.938198Z",
     "shell.execute_reply": "2024-10-15T17:33:04.936884Z"
    },
    "papermill": {
     "duration": 1.058835,
     "end_time": "2024-10-15T17:33:04.941025",
     "exception": false,
     "start_time": "2024-10-15T17:33:03.882190",
     "status": "completed"
    },
    "tags": []
   },
   "outputs": [
    {
     "data": {
      "text/plain": [
       "<seaborn.axisgrid.FacetGrid at 0x17d99e60cd0>"
      ]
     },
     "execution_count": 17,
     "metadata": {},
     "output_type": "execute_result"
    },
    {
     "data": {
      "image/png": "[encoded data removed]",
      "text/plain": [
       "<Figure size 1512.22x500 with 3 Axes>"
      ]
     },
     "metadata": {},
     "output_type": "display_data"
    }
   ],
   "source": [
    "sns.catplot(x='Survived',col='Embarked',data=train_data,kind='count')"
   ]
  },
  {
   "cell_type": "markdown",
   "id": "944cea84",
   "metadata": {
    "papermill": {
     "duration": 0.018802,
     "end_time": "2024-10-15T17:33:04.977891",
     "exception": false,
     "start_time": "2024-10-15T17:33:04.959089",
     "status": "completed"
    },
    "tags": []
   },
   "source": [
    "**Conclusion: Embarked** - looks like passegners embarking in Southampton were less likely to survive"
   ]
  },
  {
   "cell_type": "markdown",
   "id": "f671e2d1",
   "metadata": {
    "papermill": {
     "duration": 0.017506,
     "end_time": "2024-10-15T17:33:05.014163",
     "exception": false,
     "start_time": "2024-10-15T17:33:04.996657",
     "status": "completed"
    },
    "tags": []
   },
   "source": [
    "These were mostly simple corelations check with Survived but for sure there are more fancy ones which can be interesting."
   ]
  },
  {
   "cell_type": "markdown",
   "id": "e30e4ebf",
   "metadata": {
    "papermill": {
     "duration": 0.017077,
     "end_time": "2024-10-15T17:33:05.049608",
     "exception": false,
     "start_time": "2024-10-15T17:33:05.032531",
     "status": "completed"
    },
    "tags": []
   },
   "source": [
    "# Section 3 - Data cleanup"
   ]
  },
  {
   "cell_type": "markdown",
   "id": "c7d3ec68",
   "metadata": {
    "papermill": {
     "duration": 0.016984,
     "end_time": "2024-10-15T17:33:05.083856",
     "exception": false,
     "start_time": "2024-10-15T17:33:05.066872",
     "status": "completed"
    },
    "tags": []
   },
   "source": [
    "In this section we modify our sets based on the observations from Section 2"
   ]
  },
  {
   "cell_type": "markdown",
   "id": "2f856193",
   "metadata": {
    "papermill": {
     "duration": 0.017717,
     "end_time": "2024-10-15T17:33:05.119387",
     "exception": false,
     "start_time": "2024-10-15T17:33:05.101670",
     "status": "completed"
    },
    "tags": []
   },
   "source": [
    "## Data merges"
   ]
  },
  {
   "cell_type": "markdown",
   "id": "7fcdbdb4",
   "metadata": {
    "papermill": {
     "duration": 0.016877,
     "end_time": "2024-10-15T17:33:05.154316",
     "exception": false,
     "start_time": "2024-10-15T17:33:05.137439",
     "status": "completed"
    },
    "tags": []
   },
   "source": [
    "First - since SibSp and Parch are actually pretty much the same factor we can combine them into one, bascially adding FamilySize into train and test sets"
   ]
  },
  {
   "cell_type": "code",
   "execution_count": 18,
   "id": "29e16b01",
   "metadata": {
    "execution": {
     "iopub.execute_input": "2024-10-15T17:33:05.191073Z",
     "iopub.status.busy": "2024-10-15T17:33:05.190612Z",
     "iopub.status.idle": "2024-10-15T17:33:05.204414Z",
     "shell.execute_reply": "2024-10-15T17:33:05.203001Z"
    },
    "papermill": {
     "duration": 0.035988,
     "end_time": "2024-10-15T17:33:05.207360",
     "exception": false,
     "start_time": "2024-10-15T17:33:05.171372",
     "status": "completed"
    },
    "tags": []
   },
   "outputs": [
    {
     "name": "stdout",
     "output_type": "stream",
     "text": [
      "   FamilySize  Survived\n",
      "0           1  0.303538\n",
      "1           2  0.552795\n",
      "2           3  0.578431\n",
      "3           4  0.724138\n",
      "4           5  0.200000\n",
      "5           6  0.136364\n",
      "6           7  0.333333\n",
      "7           8  0.000000\n",
      "8          11  0.000000\n"
     ]
    }
   ],
   "source": [
    "all_data = [train_data,test_data]   # matrix of matrixes with our data\n",
    "for dataset in all_data:\n",
    "    dataset['FamilySize'] = dataset['SibSp'] + dataset['Parch'] + 1\n",
    "print (train_data[['FamilySize', 'Survived']].groupby(['FamilySize'], as_index=False).mean())"
   ]
  },
  {
   "cell_type": "markdown",
   "id": "23193aaa",
   "metadata": {
    "papermill": {
     "duration": 0.018727,
     "end_time": "2024-10-15T17:33:05.243673",
     "exception": false,
     "start_time": "2024-10-15T17:33:05.224946",
     "status": "completed"
    },
    "tags": []
   },
   "source": [
    "Lets verify this with simple check"
   ]
  },
  {
   "cell_type": "code",
   "execution_count": 19,
   "id": "c7db1038",
   "metadata": {
    "execution": {
     "iopub.execute_input": "2024-10-15T17:33:05.281868Z",
     "iopub.status.busy": "2024-10-15T17:33:05.281478Z",
     "iopub.status.idle": "2024-10-15T17:33:05.303453Z",
     "shell.execute_reply": "2024-10-15T17:33:05.301972Z"
    },
    "papermill": {
     "duration": 0.04436,
     "end_time": "2024-10-15T17:33:05.307116",
     "exception": false,
     "start_time": "2024-10-15T17:33:05.262756",
     "status": "completed"
    },
    "tags": []
   },
   "outputs": [
    {
     "name": "stdout",
     "output_type": "stream",
     "text": [
      "<class 'pandas.core.frame.DataFrame'>\n",
      "RangeIndex: 891 entries, 0 to 890\n",
      "Data columns (total 13 columns):\n",
      " #   Column       Non-Null Count  Dtype  \n",
      "---  ------       --------------  -----  \n",
      " 0   PassengerId  891 non-null    int64  \n",
      " 1   Survived     891 non-null    int64  \n",
      " 2   Pclass       891 non-null    int64  \n",
      " 3   Name         891 non-null    object \n",
      " 4   Sex          891 non-null    object \n",
      " 5   Age          714 non-null    float64\n",
      " 6   SibSp        891 non-null    int64  \n",
      " 7   Parch        891 non-null    int64  \n",
      " 8   Ticket       891 non-null    object \n",
      " 9   Fare         891 non-null    float64\n",
      " 10  Cabin        204 non-null    object \n",
      " 11  Embarked     889 non-null    object \n",
      " 12  FamilySize   891 non-null    int64  \n",
      "dtypes: float64(2), int64(6), object(5)\n",
      "memory usage: 90.6+ KB\n",
      "<class 'pandas.core.frame.DataFrame'>\n",
      "RangeIndex: 418 entries, 0 to 417\n",
      "Data columns (total 12 columns):\n",
      " #   Column       Non-Null Count  Dtype  \n",
      "---  ------       --------------  -----  \n",
      " 0   PassengerId  418 non-null    int64  \n",
      " 1   Pclass       418 non-null    int64  \n",
      " 2   Name         418 non-null    object \n",
      " 3   Sex          418 non-null    object \n",
      " 4   Age          332 non-null    float64\n",
      " 5   SibSp        418 non-null    int64  \n",
      " 6   Parch        418 non-null    int64  \n",
      " 7   Ticket       418 non-null    object \n",
      " 8   Fare         417 non-null    float64\n",
      " 9   Cabin        91 non-null     object \n",
      " 10  Embarked     418 non-null    object \n",
      " 11  FamilySize   418 non-null    int64  \n",
      "dtypes: float64(2), int64(5), object(5)\n",
      "memory usage: 39.3+ KB\n"
     ]
    }
   ],
   "source": [
    "train_data.info()\n",
    "test_data.info()"
   ]
  },
  {
   "cell_type": "markdown",
   "id": "588c037f",
   "metadata": {
    "papermill": {
     "duration": 0.017358,
     "end_time": "2024-10-15T17:33:05.342687",
     "exception": false,
     "start_time": "2024-10-15T17:33:05.325329",
     "status": "completed"
    },
    "tags": []
   },
   "source": [
    "NOTE: Seen cases where other fields were merged, for simplicity of this notebook I have only focused on one example as above"
   ]
  },
  {
   "cell_type": "markdown",
   "id": "6fa9070f",
   "metadata": {
    "papermill": {
     "duration": 0.017246,
     "end_time": "2024-10-15T17:33:05.377358",
     "exception": false,
     "start_time": "2024-10-15T17:33:05.360112",
     "status": "completed"
    },
    "tags": []
   },
   "source": [
    "Since original columns are no longer needed lets drop them (remember to do it in both sets) The same for features marked earlier as not relevant - Name, Ticket, Cabin"
   ]
  },
  {
   "cell_type": "code",
   "execution_count": 20,
   "id": "a86402ea",
   "metadata": {
    "execution": {
     "iopub.execute_input": "2024-10-15T17:33:05.414243Z",
     "iopub.status.busy": "2024-10-15T17:33:05.413840Z",
     "iopub.status.idle": "2024-10-15T17:33:05.421533Z",
     "shell.execute_reply": "2024-10-15T17:33:05.420356Z"
    },
    "papermill": {
     "duration": 0.029076,
     "end_time": "2024-10-15T17:33:05.423863",
     "exception": false,
     "start_time": "2024-10-15T17:33:05.394787",
     "status": "completed"
    },
    "tags": []
   },
   "outputs": [],
   "source": [
    "train_data = train_data.drop(['Parch', 'SibSp', 'Name', 'Ticket', 'Cabin'], axis=1)\n",
    "test_data = test_data.drop(['Parch', 'SibSp', 'Name', 'Ticket', 'Cabin'], axis=1)\n"
   ]
  },
  {
   "cell_type": "code",
   "execution_count": 21,
   "id": "5f7deb7a",
   "metadata": {
    "execution": {
     "iopub.execute_input": "2024-10-15T17:33:05.461353Z",
     "iopub.status.busy": "2024-10-15T17:33:05.460964Z",
     "iopub.status.idle": "2024-10-15T17:33:05.479234Z",
     "shell.execute_reply": "2024-10-15T17:33:05.477995Z"
    },
    "papermill": {
     "duration": 0.039271,
     "end_time": "2024-10-15T17:33:05.481558",
     "exception": false,
     "start_time": "2024-10-15T17:33:05.442287",
     "status": "completed"
    },
    "tags": []
   },
   "outputs": [
    {
     "name": "stdout",
     "output_type": "stream",
     "text": [
      "<class 'pandas.core.frame.DataFrame'>\n",
      "RangeIndex: 891 entries, 0 to 890\n",
      "Data columns (total 8 columns):\n",
      " #   Column       Non-Null Count  Dtype  \n",
      "---  ------       --------------  -----  \n",
      " 0   PassengerId  891 non-null    int64  \n",
      " 1   Survived     891 non-null    int64  \n",
      " 2   Pclass       891 non-null    int64  \n",
      " 3   Sex          891 non-null    object \n",
      " 4   Age          714 non-null    float64\n",
      " 5   Fare         891 non-null    float64\n",
      " 6   Embarked     889 non-null    object \n",
      " 7   FamilySize   891 non-null    int64  \n",
      "dtypes: float64(2), int64(4), object(2)\n",
      "memory usage: 55.8+ KB\n",
      "<class 'pandas.core.frame.DataFrame'>\n",
      "RangeIndex: 418 entries, 0 to 417\n",
      "Data columns (total 7 columns):\n",
      " #   Column       Non-Null Count  Dtype  \n",
      "---  ------       --------------  -----  \n",
      " 0   PassengerId  418 non-null    int64  \n",
      " 1   Pclass       418 non-null    int64  \n",
      " 2   Sex          418 non-null    object \n",
      " 3   Age          332 non-null    float64\n",
      " 4   Fare         417 non-null    float64\n",
      " 5   Embarked     418 non-null    object \n",
      " 6   FamilySize   418 non-null    int64  \n",
      "dtypes: float64(2), int64(3), object(2)\n",
      "memory usage: 23.0+ KB\n"
     ]
    }
   ],
   "source": [
    "train_data.info()\n",
    "test_data.info()"
   ]
  },
  {
   "cell_type": "markdown",
   "id": "091d548c",
   "metadata": {
    "papermill": {
     "duration": 0.017279,
     "end_time": "2024-10-15T17:33:05.516489",
     "exception": false,
     "start_time": "2024-10-15T17:33:05.499210",
     "status": "completed"
    },
    "tags": []
   },
   "source": [
    "## Filling in missing data"
   ]
  },
  {
   "cell_type": "markdown",
   "id": "4c7bd346",
   "metadata": {
    "papermill": {
     "duration": 0.017811,
     "end_time": "2024-10-15T17:33:05.551751",
     "exception": false,
     "start_time": "2024-10-15T17:33:05.533940",
     "status": "completed"
    },
    "tags": []
   },
   "source": [
    "For rows with NaNs we need to fill the data for model to work properly"
   ]
  },
  {
   "cell_type": "code",
   "execution_count": 22,
   "id": "015f7370",
   "metadata": {
    "execution": {
     "iopub.execute_input": "2024-10-15T17:33:05.588871Z",
     "iopub.status.busy": "2024-10-15T17:33:05.588461Z",
     "iopub.status.idle": "2024-10-15T17:33:05.598297Z",
     "shell.execute_reply": "2024-10-15T17:33:05.597093Z"
    },
    "papermill": {
     "duration": 0.031094,
     "end_time": "2024-10-15T17:33:05.600671",
     "exception": false,
     "start_time": "2024-10-15T17:33:05.569577",
     "status": "completed"
    },
    "tags": []
   },
   "outputs": [
    {
     "name": "stdout",
     "output_type": "stream",
     "text": [
      "Age         177\n",
      "Embarked      2\n",
      "dtype: int64,\n",
      "Age     86\n",
      "Fare     1\n",
      "dtype: int64\n"
     ]
    }
   ],
   "source": [
    "null_counts_train = train_data.isnull().sum()\n",
    "columns_with_nulls_train = null_counts_train[null_counts_train > 0]\n",
    "null_counts_test = test_data.isnull().sum()\n",
    "columns_with_nulls_test = null_counts_test[null_counts_test > 0]\n",
    "print(f'{columns_with_nulls_train},\\n{columns_with_nulls_test}')"
   ]
  },
  {
   "cell_type": "markdown",
   "id": "1e99709f",
   "metadata": {
    "papermill": {
     "duration": 0.017316,
     "end_time": "2024-10-15T17:33:05.635582",
     "exception": false,
     "start_time": "2024-10-15T17:33:05.618266",
     "status": "completed"
    },
    "tags": []
   },
   "source": [
    "So we do see that we need to fill out Age in both sets, Embarked in train and Fare in test\n",
    "\n",
    "Lets first pick up Age. Here multiple approaches can be used, most simple one is the mean of all values, other one is to corelate this with passenger class mean, another one is calculate it based on the tile of passenger name like Mr, Miss etc. We will go middle one corelating age with passenger class"
   ]
  },
  {
   "cell_type": "code",
   "execution_count": 23,
   "id": "643d238f",
   "metadata": {
    "execution": {
     "iopub.execute_input": "2024-10-15T17:33:05.672506Z",
     "iopub.status.busy": "2024-10-15T17:33:05.672101Z",
     "iopub.status.idle": "2024-10-15T17:33:05.678367Z",
     "shell.execute_reply": "2024-10-15T17:33:05.677307Z"
    },
    "papermill": {
     "duration": 0.027582,
     "end_time": "2024-10-15T17:33:05.680785",
     "exception": false,
     "start_time": "2024-10-15T17:33:05.653203",
     "status": "completed"
    },
    "tags": []
   },
   "outputs": [],
   "source": [
    "def age_imputing(position):\n",
    "    if pd.isnull(position.iloc[0]):\n",
    "        if position.iloc[1] == 3:\n",
    "            return 25\n",
    "        elif position.iloc[1] == 2:\n",
    "            return 30\n",
    "        else:\n",
    "            return 35\n",
    "    else:\n",
    "        return position.iloc[0]"
   ]
  },
  {
   "cell_type": "code",
   "execution_count": 24,
   "id": "e743e8e7",
   "metadata": {
    "execution": {
     "iopub.execute_input": "2024-10-15T17:33:05.719130Z",
     "iopub.status.busy": "2024-10-15T17:33:05.718728Z",
     "iopub.status.idle": "2024-10-15T17:33:05.761836Z",
     "shell.execute_reply": "2024-10-15T17:33:05.760742Z"
    },
    "papermill": {
     "duration": 0.065624,
     "end_time": "2024-10-15T17:33:05.764163",
     "exception": false,
     "start_time": "2024-10-15T17:33:05.698539",
     "status": "completed"
    },
    "tags": []
   },
   "outputs": [
    {
     "name": "stdout",
     "output_type": "stream",
     "text": [
      "Embarked    2\n",
      "dtype: int64,\n",
      "Fare    1\n",
      "dtype: int64\n"
     ]
    }
   ],
   "source": [
    "train_data[\"Age\"] = train_data[['Age','Pclass']].apply(age_imputing,axis=1)\n",
    "test_data[\"Age\"] = test_data[['Age','Pclass']].apply(age_imputing,axis=1)\n",
    "null_counts_train = train_data.isnull().sum()\n",
    "columns_with_nulls_train = null_counts_train[null_counts_train > 0]\n",
    "null_counts_test = test_data.isnull().sum()\n",
    "columns_with_nulls_test = null_counts_test[null_counts_test > 0]\n",
    "print(f'{columns_with_nulls_train},\\n{columns_with_nulls_test}')"
   ]
  },
  {
   "cell_type": "markdown",
   "id": "8f330f59",
   "metadata": {
    "papermill": {
     "duration": 0.017334,
     "end_time": "2024-10-15T17:33:05.799065",
     "exception": false,
     "start_time": "2024-10-15T17:33:05.781731",
     "status": "completed"
    },
    "tags": []
   },
   "source": [
    "No Age on the list, good to go! Remaining 2 are in low number so not big impact but lets fix them with "
   ]
  },
  {
   "cell_type": "code",
   "execution_count": 25,
   "id": "e0f710a7",
   "metadata": {
    "execution": {
     "iopub.execute_input": "2024-10-15T17:33:05.835852Z",
     "iopub.status.busy": "2024-10-15T17:33:05.835448Z",
     "iopub.status.idle": "2024-10-15T17:33:05.848324Z",
     "shell.execute_reply": "2024-10-15T17:33:05.846986Z"
    },
    "papermill": {
     "duration": 0.0341,
     "end_time": "2024-10-15T17:33:05.850727",
     "exception": false,
     "start_time": "2024-10-15T17:33:05.816627",
     "status": "completed"
    },
    "tags": []
   },
   "outputs": [
    {
     "name": "stdout",
     "output_type": "stream",
     "text": [
      "Series([], dtype: int64),\n",
      "Series([], dtype: int64)\n"
     ]
    }
   ],
   "source": [
    "test_data['Fare'] = test_data['Fare'].fillna(test_data['Fare'].mean())\n",
    "train_data = train_data.fillna({\"Embarked\": \"S\"})\n",
    "null_counts_train = train_data.isnull().sum()\n",
    "columns_with_nulls_train = null_counts_train[null_counts_train > 0]\n",
    "null_counts_test = test_data.isnull().sum()\n",
    "columns_with_nulls_test = null_counts_test[null_counts_test > 0]\n",
    "print(f'{columns_with_nulls_train},\\n{columns_with_nulls_test}')"
   ]
  },
  {
   "cell_type": "markdown",
   "id": "295fb0bd",
   "metadata": {
    "papermill": {
     "duration": 0.017487,
     "end_time": "2024-10-15T17:33:05.886611",
     "exception": false,
     "start_time": "2024-10-15T17:33:05.869124",
     "status": "completed"
    },
    "tags": []
   },
   "source": [
    "# Section 4 - RandomForest submission"
   ]
  },
  {
   "cell_type": "code",
   "execution_count": 26,
   "id": "3bcb5d1f",
   "metadata": {
    "execution": {
     "iopub.execute_input": "2024-10-15T17:33:05.924377Z",
     "iopub.status.busy": "2024-10-15T17:33:05.923962Z",
     "iopub.status.idle": "2024-10-15T17:33:10.188309Z",
     "shell.execute_reply": "2024-10-15T17:33:10.186947Z"
    },
    "papermill": {
     "duration": 4.286373,
     "end_time": "2024-10-15T17:33:10.191036",
     "exception": false,
     "start_time": "2024-10-15T17:33:05.904663",
     "status": "completed"
    },
    "tags": []
   },
   "outputs": [
    {
     "name": "stdout",
     "output_type": "stream",
     "text": [
      "Your submission was successfully saved!\n"
     ]
    }
   ],
   "source": [
    "from sklearn.ensemble import RandomForestClassifiertC\n",
    "y = train_data[\"Survived\"]\n",
    "features = [\"Pclass\", \"Sex\", \"Age\", \"FamilySize\", \"Fare\", \"Embarked\"]\n",
    "X = pd.get_dummies(train_data[features])\n",
    "X_test = pd.get_dummies(test_data[features])\n",
    "\n",
    "model = RandomForestClassifier(criterion='gini', n_estimators=900,\n",
    "                             min_samples_split=15,min_samples_leaf=1,\n",
    "                             oob_score=True, random_state=1,n_jobs=-1)\n",
    "model.fit(X, y)\n",
    "predictions = model.predict(X_test)\n",
    "\n",
    "output = pd.DataFrame({'PassengerId': test_data.PassengerId, 'Survived': predictions})\n",
    "output.to_csv('./dataset/submission.csv', index=False)\n",
    "print(\"Your submission was successfully saved!\")=15,min_samples_leaf=1,\n",
    "                             oob_score=True, random_state=1,n_jobs=-1)\n",
    "model.fit(X, y)\n",
    "predictions = model.predict(X_test)\n",
    "\n",
    "output = pd.DataFrame({'PassengerId': test_data.PassengerId, 'Survived': predictions})\n",
    "output.to_csv('./dataset/submission.csv', index=False)\n",
    "print(\"Your submission was successfully saved!\")"
   ]
  }
 ],
 "metadata": {
  "kaggle": {
   "accelerator": "none",
   "dataSources": [
    {
     "databundleVersionId": 26502,
     "sourceId": 3136,
     "sourceType": "competition"
    }
   ],
   "dockerImageVersionId": 30746,
   "isGpuEnabled": false,
   "isInternetEnabled": false,
   "language": "python",
   "sourceType": "notebook"
  },
  "kernelspec": {
   "display_name": "Python 3",
   "language": "python",
   "name": "python3"
  },
  "language_info": {
   "codemirror_mode": {
    "name": "ipython",
    "version": 3
   },
   "file_extension": ".py",
   "mimetype": "text/x-python",
   "name": "python",
   "nbconvert_exporter": "python",
   "pygments_lexer": "ipython3",
   "version": "3.11.7"
  },
  "papermill": {
   "default_parameters": {},
   "duration": 17.226131,
   "end_time": "2024-10-15T17:33:10.931468",
   "environment_variables": {},
   "exception": null,
   "input_path": "__notebook__.ipynb",
   "output_path": "__notebook__.ipynb",
   "parameters": {},
   "start_time": "2024-10-15T17:32:53.705337",
   "version": "2.5.0"
  }
 },
 "nbformat": 4,
 "nbformat_minor": 5
}
